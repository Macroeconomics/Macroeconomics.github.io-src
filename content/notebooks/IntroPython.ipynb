{
 "metadata": {
  "name": "",
  "signature": "sha256:3fd6f3597c755eded3d38208a221c6f393ce86d9813d2674933c9e7fcac5e7e0"
 },
 "nbformat": 3,
 "nbformat_minor": 0,
 "worksheets": [
  {
   "cells": [
    {
     "cell_type": "heading",
     "level": 1,
     "metadata": {},
     "source": [
      "Introduction to ![Python](images/pics/python-logo.png) and ![IPython](images/pics/IPy_header.png)"
     ]
    },
    {
     "cell_type": "markdown",
     "metadata": {},
     "source": [
      "**Python** is a powerful and easy to use programming language. It has a large community of developers and given its open source nature, you can find many solutions, scripts, and help all over the web. It is easy to learn and code, and faster than other high-level programming languages...and did I mention it is _free_ because it is **open source** \n",
      "\n",
      "**IPython** is a very powerful extension to Python that provides:\n",
      "Powerful interactive shells (terminal and Qt-based).\n",
      "\n",
      "* A browser-based notebook with support for code, text, mathematical expressions, inline plots and other rich media.\n",
      "* Support for interactive data visualization and use of GUI toolkits.\n",
      "* Flexible, embeddable interpreters to load into your own projects.\n",
      "* Easy to use, high performance tools for parallel computing."
     ]
    },
    {
     "cell_type": "heading",
     "level": 3,
     "metadata": {},
     "source": [
      "Getting Python"
     ]
    },
    {
     "cell_type": "markdown",
     "metadata": {},
     "source": [
      "You can download and install Python and its packages for free for your computer from [Python.org](http:www.python.org). While this is the official site, which offers the basic installer and you can try do add any packages you require yourself, a much easier approach, which is almost foolproof is to use [Continuum Anaconda](https://www.continuum.io/downloads) or [Enthought Canopy](https://www.enthought.com/products/canopy). Both of these distributions offer academic licenses ([Canopy](https://www.enthought.com/products/canopy/academic/)), which allow you to use a larger set of packages."
     ]
    },
    {
     "cell_type": "markdown",
     "metadata": {},
     "source": [
      "####Note\n",
      "\n",
      "I use Canopy on OSX, so the rest of this tutorial will assume you are using that distribution. Everything that is done should work on any distribution that has the required packages, since the Python scripts should run (in rinciple) on any of these distributions. \n",
      "\n",
      "We will use IPython as our computing environment."
     ]
    },
    {
     "cell_type": "heading",
     "level": 2,
     "metadata": {},
     "source": [
      "Let's get started"
     ]
    },
    {
     "cell_type": "markdown",
     "metadata": {},
     "source": [
      "Once you have your Python distribution installed you'll be ready to start working. You have two options:\n",
      "\n",
      "* Open the Canopy program and work there\n",
      "* From the Terminal prompt (command-line in Windows) execute one of the following commands:\n",
      "    - `ipython`\n",
      "    - `ipython qtconsole`\n",
      "    - `ipython notebook`\n",
      "\n",
      "While they are all using IPython, each has its advantages and disadvantages. You should to play with them to get a better feeling of which you want to use for which purpose. In my own research I usually use a text editor ([TextMate](http://macromates.com/)) and the `ipython qtconsole`. Although after seeing the power of Ipython's notebooks (see this excellent and in-depth [presentation](http://youtu.be/xe_ATRmw0KM) by its creators), I might consider shifting towards the notebook. As you will see, this might prove an excellent environment to do research, homework, replicate papers, etc."
     ]
    },
    {
     "cell_type": "markdown",
     "metadata": {},
     "source": [
      "####Note\n",
      "\n",
      "You can pass some additional commands to `ipython` in order to change colors and rendering of plots. I usually use `ipython qtconsole --color=linux --pylab=inline`. You can create profiles to manage many options within IPython."
     ]
    },
    {
     "cell_type": "heading",
     "level": 1,
     "metadata": {},
     "source": [
      "First steps"
     ]
    },
    {
     "cell_type": "markdown",
     "metadata": {},
     "source": [
      "Let's start by running some simple commands at the prompt to do some simple computations."
     ]
    },
    {
     "cell_type": "code",
     "collapsed": false,
     "input": [
      "1+1-2"
     ],
     "language": "python",
     "metadata": {},
     "outputs": []
    },
    {
     "cell_type": "code",
     "collapsed": false,
     "input": [
      "3*2"
     ],
     "language": "python",
     "metadata": {},
     "outputs": []
    },
    {
     "cell_type": "code",
     "collapsed": false,
     "input": [
      "3**2"
     ],
     "language": "python",
     "metadata": {},
     "outputs": []
    },
    {
     "cell_type": "code",
     "collapsed": false,
     "input": [
      "-1**2"
     ],
     "language": "python",
     "metadata": {},
     "outputs": []
    },
    {
     "cell_type": "code",
     "collapsed": false,
     "input": [
      "3*(3-2)"
     ],
     "language": "python",
     "metadata": {},
     "outputs": []
    },
    {
     "cell_type": "code",
     "collapsed": false,
     "input": [
      "3*3-2"
     ],
     "language": "python",
     "metadata": {},
     "outputs": []
    },
    {
     "cell_type": "markdown",
     "metadata": {},
     "source": [
      "Notice that Python obeys the usual orders for operators, so exponentiation before multiplication/division, etc."
     ]
    },
    {
     "cell_type": "code",
     "collapsed": false,
     "input": [
      "1/2"
     ],
     "language": "python",
     "metadata": {},
     "outputs": []
    },
    {
     "cell_type": "markdown",
     "metadata": {},
     "source": [
      "Notce that this answer is wrong if $1,2\\in\\mathbb{R}$, but Python thinks they are integers, so it forces and integer. In order to have a more natural behavior of division we need"
     ]
    },
    {
     "cell_type": "code",
     "collapsed": false,
     "input": [
      "from __future__ import division\n",
      "1/2"
     ],
     "language": "python",
     "metadata": {},
     "outputs": []
    },
    {
     "cell_type": "markdown",
     "metadata": {},
     "source": [
      "####Note\n",
      "It is a good idea to include this among the packages to be imported by default"
     ]
    },
    {
     "cell_type": "heading",
     "level": 3,
     "metadata": {},
     "source": [
      "Getting help"
     ]
    },
    {
     "cell_type": "markdown",
     "metadata": {},
     "source": [
      "So what else can we do? Where do we start if we are new? You can use `?` or `help()` to get help."
     ]
    },
    {
     "cell_type": "code",
     "collapsed": false,
     "input": [
      "?"
     ],
     "language": "python",
     "metadata": {},
     "outputs": []
    },
    {
     "cell_type": "code",
     "collapsed": false,
     "input": [
      "help()"
     ],
     "language": "python",
     "metadata": {},
     "outputs": []
    },
    {
     "cell_type": "markdown",
     "metadata": {},
     "source": [
      "If you want information about a command, say `mycommand` you can use `help(mycommand)`, `mycommand?` or `mycommand??` to get information about how it is used or even see its code."
     ]
    },
    {
     "cell_type": "code",
     "collapsed": false,
     "input": [
      "help(sum)"
     ],
     "language": "python",
     "metadata": {},
     "outputs": []
    },
    {
     "cell_type": "code",
     "collapsed": false,
     "input": [
      "sum?"
     ],
     "language": "python",
     "metadata": {},
     "outputs": []
    },
    {
     "cell_type": "code",
     "collapsed": false,
     "input": [
      "sum??"
     ],
     "language": "python",
     "metadata": {},
     "outputs": []
    },
    {
     "cell_type": "heading",
     "level": 4,
     "metadata": {},
     "source": [
      "Variables, strings, and other objects"
     ]
    },
    {
     "cell_type": "markdown",
     "metadata": {},
     "source": [
      "We can print information"
     ]
    },
    {
     "cell_type": "code",
     "collapsed": false,
     "input": [
      "print 'Hello World!'"
     ],
     "language": "python",
     "metadata": {},
     "outputs": []
    },
    {
     "cell_type": "markdown",
     "metadata": {},
     "source": [
      "We can also create variables, which can be of various types"
     ]
    },
    {
     "cell_type": "code",
     "collapsed": false,
     "input": [
      "a=1\n",
      "b=2\n",
      "a+b"
     ],
     "language": "python",
     "metadata": {},
     "outputs": []
    },
    {
     "cell_type": "markdown",
     "metadata": {},
     "source": [
      "`a` and `b` now hold numerical values we can use for computing"
     ]
    },
    {
     "cell_type": "code",
     "collapsed": false,
     "input": [
      "c=[1,2]\n",
      "d=[[1,2],[3,4]]\n",
      "print 'c=%s' % c\n",
      "print 'd=%s' % d"
     ],
     "language": "python",
     "metadata": {},
     "outputs": []
    },
    {
     "cell_type": "markdown",
     "metadata": {},
     "source": [
      "Notice that we have used `%s` and `%` to let Python know we are passing a string to the print function.\n",
      "\n",
      "What kind of variables are `c` and `d`? They look like vectors and matrices, but..."
     ]
    },
    {
     "cell_type": "code",
     "collapsed": false,
     "input": [
      "print 'a*c=%s' % (a*c)\n",
      "print 'b*d=%s' % (b*d)"
     ],
     "language": "python",
     "metadata": {},
     "outputs": []
    },
    {
     "cell_type": "code",
     "collapsed": false,
     "input": [
      "c*d"
     ],
     "language": "python",
     "metadata": {},
     "outputs": []
    },
    {
     "cell_type": "markdown",
     "metadata": {},
     "source": [
      "Actually, Python does not have vectors or matrices directly available. Instead it has lists, sets, arrays, etc., each with its own set of operations. We defined `c` and `d` as list objects"
     ]
    },
    {
     "cell_type": "code",
     "collapsed": false,
     "input": [
      "type(c)"
     ],
     "language": "python",
     "metadata": {},
     "outputs": []
    },
    {
     "cell_type": "code",
     "collapsed": false,
     "input": [
      "type(d)"
     ],
     "language": "python",
     "metadata": {},
     "outputs": []
    },
    {
     "cell_type": "code",
     "collapsed": false,
     "input": [
      "type(a)"
     ],
     "language": "python",
     "metadata": {},
     "outputs": []
    },
    {
     "cell_type": "markdown",
     "metadata": {},
     "source": [
      "Luckily Python has a powerful package for numerical computing called [Numpy](http://www.numpy.org/). "
     ]
    },
    {
     "cell_type": "heading",
     "level": 3,
     "metadata": {},
     "source": [
      "Extending Python's Functionality with Packages"
     ]
    },
    {
     "cell_type": "markdown",
     "metadata": {},
     "source": [
      "In order to use a package in Python or IPython, say `mypackage`, you need to import it, by executing \n",
      "    \n",
      "    import mypackage\n",
      "\n",
      "After executing this command, you will have access to the functions and objects defined in `mypackage`. For example, if `mypackage` has a function `squared` that takes a real number `x` and computes its square, we can use this function by calling `mypackage.squared(x)`. Since the name of some packages might be too long, your can give them a nickname by importing them instead as\n",
      "    \n",
      "    import mypackage as myp\n",
      "\n",
      "so now we could compute the square of `x` by calling `myp.squared(x)`.\n",
      "\n",
      "We will see various packages that will be useful to do computations, statistics, plots, etc.\n",
      "\n",
      "IPython has a command that imports Numpy and Matplotlib (Python's main plotting package). Numpy is imported as `np` and Matplotlib as `plt`. One could import these by hand by executing\n",
      "\n",
      "    import numpy as np\n",
      "    import matplotlib as plt\n",
      "    \n",
      "but the creators of IPython have optimized the interaction between these packages by running the following command:\n",
      "\n",
      "    %pylab"
     ]
    },
    {
     "cell_type": "code",
     "collapsed": false,
     "input": [
      "%pylab?"
     ],
     "language": "python",
     "metadata": {},
     "outputs": []
    },
    {
     "cell_type": "markdown",
     "metadata": {},
     "source": [
      "I do recommend using the `--no-import-all` option in order to ensure you do not contaminate the namespace. Instead it might be best to use\n",
      "    \n",
      "    %pylab --no-import-all\n",
      "    %matplotlib"
     ]
    },
    {
     "cell_type": "code",
     "collapsed": false,
     "input": [
      "%matplotlib?"
     ],
     "language": "python",
     "metadata": {},
     "outputs": []
    },
    {
     "cell_type": "code",
     "collapsed": false,
     "input": [
      "%pylab --no-import-all\n",
      "%matplotlib inline"
     ],
     "language": "python",
     "metadata": {},
     "outputs": []
    },
    {
     "cell_type": "code",
     "collapsed": false,
     "input": [
      "np?"
     ],
     "language": "python",
     "metadata": {},
     "outputs": []
    },
    {
     "cell_type": "markdown",
     "metadata": {},
     "source": [
      "Let us now recreate `c` and `d`, but as Numpy arrays instead."
     ]
    },
    {
     "cell_type": "code",
     "collapsed": false,
     "input": [
      "ca=np.array(c)\n",
      "da=np.array(d)\n",
      "print 'ca=%s' % ca\n",
      "print 'da=%s' % da"
     ],
     "language": "python",
     "metadata": {},
     "outputs": []
    },
    {
     "cell_type": "markdown",
     "metadata": {},
     "source": [
      "We could have created them as matrices intead. Again how you want to cerate them depends on what you will be doing with them. See here for an explanation of the differences between Numpy arrays and matrices."
     ]
    },
    {
     "cell_type": "code",
     "collapsed": false,
     "input": [
      "cm=np.matrix(c)\n",
      "dm=np.matrix(d)\n",
      "print 'cm=%s' % cm\n",
      "print 'dm=%s' % dm"
     ],
     "language": "python",
     "metadata": {},
     "outputs": []
    },
    {
     "cell_type": "markdown",
     "metadata": {},
     "source": [
      "Let's see some information about these...(this is a good moment to show tab completion...a _wonderful_ feature of IPython, which is not avalable if Python)"
     ]
    },
    {
     "cell_type": "code",
     "collapsed": false,
     "input": [
      "cm.shape"
     ],
     "language": "python",
     "metadata": {},
     "outputs": []
    },
    {
     "cell_type": "code",
     "collapsed": false,
     "input": [
      "ca.shape"
     ],
     "language": "python",
     "metadata": {},
     "outputs": []
    },
    {
     "cell_type": "code",
     "collapsed": false,
     "input": [
      "dm.\n",
      "da."
     ],
     "language": "python",
     "metadata": {},
     "outputs": []
    },
    {
     "cell_type": "markdown",
     "metadata": {},
     "source": [
      "Let's try again some operations on our new arrays and matrices"
     ]
    },
    {
     "cell_type": "code",
     "collapsed": false,
     "input": [
      "cm*dm"
     ],
     "language": "python",
     "metadata": {},
     "outputs": []
    },
    {
     "cell_type": "code",
     "collapsed": false,
     "input": [
      "ca*da"
     ],
     "language": "python",
     "metadata": {},
     "outputs": []
    },
    {
     "cell_type": "code",
     "collapsed": false,
     "input": [
      "ca.dot(da)"
     ],
     "language": "python",
     "metadata": {},
     "outputs": []
    },
    {
     "cell_type": "markdown",
     "metadata": {},
     "source": [
      "We can create special matrices using Numpy's functions and classes"
     ]
    },
    {
     "cell_type": "code",
     "collapsed": false,
     "input": [
      "print np.ones((3,4))\n",
      "print np.zeros((2,2))\n",
      "print np.eye(2)\n",
      "print np.ones_like(cm)"
     ],
     "language": "python",
     "metadata": {},
     "outputs": []
    },
    {
     "cell_type": "code",
     "collapsed": false,
     "input": [
      "np.random"
     ],
     "language": "python",
     "metadata": {},
     "outputs": []
    },
    {
     "cell_type": "code",
     "collapsed": false,
     "input": [
      "x0=0\n",
      "x=[x0]\n",
      "[x.append(x[-1]+np.random.normal()) for i in range(500)]\n",
      "plt.plot(x)\n",
      "plt.title('A simple random walk')\n",
      "plt.xlabel('Period')\n",
      "plt.ylabel('Log Income')\n",
      "plt.show()"
     ],
     "language": "python",
     "metadata": {},
     "outputs": []
    },
    {
     "cell_type": "heading",
     "level": 3,
     "metadata": {},
     "source": [
      "Extending Capabilities with Functions"
     ]
    },
    {
     "cell_type": "markdown",
     "metadata": {},
     "source": [
      "We have used some of the functions in Python, Numpy and Matplotlib. But what if we wanted to create our own functions? It is very easy to do so in Python. There are two ways to define functions. Let's use them to define the CRRA utility function $u(c)=\\frac{c^{1-\\sigma}-1}{1-\\sigma}$ and the production function $f(k)=Ak^\\alpha$.\n",
      "\n",
      "The first method is as follows:"
     ]
    },
    {
     "cell_type": "code",
     "collapsed": false,
     "input": [
      "def u(c,sigma):\n",
      "    '''This function returns the value of utility when the CRRA\n",
      "    coefficient is sigma. I.e. \n",
      "    u(c,sigma)=(c**(1-sigma)-1)/(1-sigma) if sigma!=1 \n",
      "    and \n",
      "    u(c,sigma)=ln(c) if sigma==1\n",
      "    Usage: u(c,sigma)\n",
      "    '''\n",
      "    if sigma!=1:\n",
      "        u=(c**(1-sigma)-1)/(1-sigma)\n",
      "    else:\n",
      "        u=np.log(c)\n",
      "    return u"
     ],
     "language": "python",
     "metadata": {},
     "outputs": []
    },
    {
     "cell_type": "markdown",
     "metadata": {},
     "source": [
      "This defined the utility function. Let's plot it for $0< c\\le5$ and $\\sigma\\in\\{0.5,1,1.5\\}$"
     ]
    },
    {
     "cell_type": "code",
     "collapsed": false,
     "input": [
      "c=np.linspace(0.1,5,100)\n",
      "u1=u(c,.5)\n",
      "u2=u(c,1)\n",
      "u3=u(c,1.5)\n",
      "plt.plot(c,u1,label=r'$\\sigma=.5$')\n",
      "plt.plot(c,u2,label=r'$\\sigma=1$')\n",
      "plt.plot(c,u3,label=r'$\\sigma=1.5$')\n",
      "plt.xlabel(r'$c_t$')\n",
      "plt.ylabel(r'$u(c_t)$')\n",
      "plt.title('CRRA Utility function')\n",
      "plt.legend(loc=4)\n",
      "plt.show()"
     ],
     "language": "python",
     "metadata": {},
     "outputs": []
    },
    {
     "cell_type": "markdown",
     "metadata": {},
     "source": [
      "While this is nice, it requires us to always have to put a value for the CRRA coefficient. Furthermore, we need to remember if $c$ is the first or second argument. Since we tend to use log-utilities a lot, let us change the definition of the utility function so that it has a default value for $\\sigma$ equal to 1"
     ]
    },
    {
     "cell_type": "code",
     "collapsed": false,
     "input": [
      "def u(c,sigma=1):\n",
      "    '''This function returns the value of utility when the CRRA\n",
      "    coefficient is sigma. I.e. \n",
      "    u(c,sigma)=(c**(1-sigma)-1)/(1-sigma) if sigma!=1 \n",
      "    and \n",
      "    u(c,sigma)=ln(c) if sigma==1\n",
      "    Usage: u(c,sigma=value), where sigma=1 is the default \n",
      "    '''\n",
      "    if sigma!=1:\n",
      "        u=(c**(1-sigma)-1)/(1-sigma)\n",
      "    else:\n",
      "        u=np.log(c)\n",
      "    return u"
     ],
     "language": "python",
     "metadata": {},
     "outputs": []
    },
    {
     "cell_type": "code",
     "collapsed": false,
     "input": [
      "sigma1=.25\n",
      "sigma3=1.25\n",
      "u1=u(c,sigma=sigma1)\n",
      "u2=u(c)\n",
      "u3=u(c,sigma=sigma3)\n",
      "plt.plot(c,u1,label=r'$\\sigma='+str(sigma1)+'$')\n",
      "plt.plot(c,u2,label=r'$\\sigma=1$')\n",
      "plt.plot(c,u3,label=r'$\\sigma='+str(sigma3)+'$')\n",
      "plt.xlabel(r'$c_t$')\n",
      "plt.ylabel(r'$u(c_t)$')\n",
      "plt.title('CRRA Utility function')\n",
      "plt.legend(loc=4)\n",
      "plt.show()"
     ],
     "language": "python",
     "metadata": {},
     "outputs": []
    },
    {
     "cell_type": "markdown",
     "metadata": {},
     "source": [
      "###Exercise\n",
      "\n",
      "Write the function for the production function. Can you generalize it so that we can use it for aggregate, per capita, and per efficiency units without having to write a function for each?"
     ]
    },
    {
     "cell_type": "markdown",
     "metadata": {},
     "source": [
      "The second method is to use the `lambda` notation, which allows you to define functions in one line or without giving the function a name."
     ]
    },
    {
     "cell_type": "code",
     "collapsed": false,
     "input": [
      "squared= lambda x: x**2\n",
      "squared(2)"
     ],
     "language": "python",
     "metadata": {},
     "outputs": []
    },
    {
     "cell_type": "heading",
     "level": 1,
     "metadata": {},
     "source": [
      "Our first script"
     ]
    },
    {
     "cell_type": "markdown",
     "metadata": {},
     "source": [
      "Let's write a script that prints \"Hello World!\""
     ]
    },
    {
     "cell_type": "code",
     "collapsed": false,
     "input": [
      "%%file?"
     ],
     "language": "python",
     "metadata": {},
     "outputs": []
    },
    {
     "cell_type": "code",
     "collapsed": false,
     "input": [
      "%%file helloworld.py\n",
      "#!/usr/bin/env python\n",
      "# coding=utf-8\n",
      "'''\n",
      "My First script in Python\n",
      "\n",
      "Author: Me\n",
      "E-mail: me@me.com\n",
      "Website: http://me.com\n",
      "GitHub:  https://github.com/me\n",
      "Date: Today\n",
      "\n",
      "This code computes Random Walks and graphs them\n",
      "'''\n",
      "\n",
      "'''\n",
      "from __future__ import division\n",
      "import numpy as np\n",
      "import matplotlib.pyplot as plt\n",
      "'''\n",
      "print 'Hello World!'\n"
     ],
     "language": "python",
     "metadata": {},
     "outputs": []
    },
    {
     "cell_type": "markdown",
     "metadata": {},
     "source": [
      "Let's run that script"
     ]
    },
    {
     "cell_type": "code",
     "collapsed": false,
     "input": [
      "%run helloworld.py"
     ],
     "language": "python",
     "metadata": {},
     "outputs": []
    },
    {
     "cell_type": "markdown",
     "metadata": {},
     "source": [
      "####Exercise\n",
      "\n",
      "Write a simple script that simulates and plots random walks. In particular, create a function randomwalk(x0,T,mu,sigma) that simulates the random walk starting at $x_0=x0$ until $t=T$ where the shock is distributed $\\mathcal{N}(\\mu,\\sigma^2)$"
     ]
    },
    {
     "cell_type": "code",
     "collapsed": false,
     "input": [
      "import time\n",
      "time.sleep(60*5)\n",
      "print \"It's time\""
     ],
     "language": "python",
     "metadata": {},
     "outputs": []
    },
    {
     "cell_type": "heading",
     "level": 1,
     "metadata": {},
     "source": [
      "Working with data using Pandas"
     ]
    },
    {
     "cell_type": "markdown",
     "metadata": {},
     "source": [
      "**[Pandas](http://pandas.pydata.org/)** is the Python Data Analysis Library, which is one of the most useful packages for economists and anyone using data. It is fast, powerful, flexible and very simple to use! \n",
      "\n",
      "To use **[Pandas](http://pandas.pydata.org/)** just issue the import command:"
     ]
    },
    {
     "cell_type": "code",
     "collapsed": false,
     "input": [
      "import pandas as pd"
     ],
     "language": "python",
     "metadata": {},
     "outputs": []
    },
    {
     "cell_type": "markdown",
     "metadata": {},
     "source": [
      "You can use Pandas to download data from various sources, including FRED and the World Bank. See [here](http://pandas.pydata.org/pandas-docs/stable/remote_data.html?highlight=world%20bank). As an exercise, go to the [World Bank WDI data page](http://data.worldbank.org) and download as an excel file the \"Mobile cellular subscriptions (per 100 people)\" and as a csv file the \"GDP per capita, PPP (constant 2011 international $)\" series, the name of the series are IT.CEL.SETS.P2 and NY.GDP.PCAP.PP.KD. Save the file as *wdimobile.csv* and *wdigdppc.xlsx* and import it into python by issuing the following command:"
     ]
    },
    {
     "cell_type": "code",
     "collapsed": false,
     "input": [
      "dfincome=pd.read_csv('./WDI/wdigdppc.csv', skiprows=2)\n",
      "dfmobile=pd.read_excel('./WDI/wdimobile.xls', skiprows=2)"
     ],
     "language": "python",
     "metadata": {},
     "outputs": []
    },
    {
     "cell_type": "markdown",
     "metadata": {},
     "source": [
      "Now you should have a *data frame* with the data you downloaded."
     ]
    },
    {
     "cell_type": "markdown",
     "metadata": {},
     "source": [
      "Let's see what they look like..."
     ]
    },
    {
     "cell_type": "code",
     "collapsed": false,
     "input": [
      "dfincome"
     ],
     "language": "python",
     "metadata": {},
     "outputs": []
    },
    {
     "cell_type": "code",
     "collapsed": false,
     "input": [
      "dfmobile"
     ],
     "language": "python",
     "metadata": {},
     "outputs": []
    },
    {
     "cell_type": "markdown",
     "metadata": {},
     "source": [
      "Notice that these **data frames** look like spreadsheets or data tables. Columns have names that can be used to call the data, e.g."
     ]
    },
    {
     "cell_type": "code",
     "collapsed": false,
     "input": [
      "dfmobile.columns"
     ],
     "language": "python",
     "metadata": {},
     "outputs": []
    },
    {
     "cell_type": "code",
     "collapsed": false,
     "input": [
      "dfmobile['Country Code']"
     ],
     "language": "python",
     "metadata": {},
     "outputs": []
    },
    {
     "cell_type": "markdown",
     "metadata": {},
     "source": [
      "We can use columns to compute additional information. For example the growth rate of income per capite between 2000 and 2005 is"
     ]
    },
    {
     "cell_type": "code",
     "collapsed": false,
     "input": [
      "growth=np.log(dfincome['2005'])-np.log(dfincome['2000'])"
     ],
     "language": "python",
     "metadata": {},
     "outputs": []
    },
    {
     "cell_type": "code",
     "collapsed": false,
     "input": [
      "growth"
     ],
     "language": "python",
     "metadata": {},
     "outputs": []
    },
    {
     "cell_type": "markdown",
     "metadata": {},
     "source": [
      "Notice we do not know which country the growth rate belongs to. We could create a column in dfincome that holds the growth value or we can change the index of the data frame so that it keeps the country code (this is useful!)"
     ]
    },
    {
     "cell_type": "code",
     "collapsed": false,
     "input": [
      "dfincome['growth']=np.log(dfincome['2005'])-np.log(dfincome['2000'])"
     ],
     "language": "python",
     "metadata": {},
     "outputs": []
    },
    {
     "cell_type": "code",
     "collapsed": false,
     "input": [
      "dfincome[['Country Code','growth']]"
     ],
     "language": "python",
     "metadata": {},
     "outputs": []
    },
    {
     "cell_type": "code",
     "collapsed": false,
     "input": [
      "dfincome.set_index('Country Code', inplace=True)"
     ],
     "language": "python",
     "metadata": {},
     "outputs": []
    },
    {
     "cell_type": "code",
     "collapsed": false,
     "input": [
      "growth=np.log(dfincome['2005'])-np.log(dfincome['2000'])\n",
      "growth.name='growth'\n",
      "growth"
     ],
     "language": "python",
     "metadata": {},
     "outputs": []
    },
    {
     "cell_type": "markdown",
     "metadata": {},
     "source": [
      "Let's delete the growth column from dfincome"
     ]
    },
    {
     "cell_type": "code",
     "collapsed": false,
     "input": [
      "dfincome.drop('growth',axis=1, inplace=True)"
     ],
     "language": "python",
     "metadata": {},
     "outputs": []
    },
    {
     "cell_type": "markdown",
     "metadata": {},
     "source": [
      "Let's compute the growth of cell phone subscription for the period 2000-2005"
     ]
    },
    {
     "cell_type": "code",
     "collapsed": false,
     "input": [
      "dfmobile.set_index('Country Code',inplace=True)\n",
      "growthmobile=np.log(dfmobile['2005'])-np.log(dfmobile['2000'])"
     ],
     "language": "python",
     "metadata": {},
     "outputs": []
    },
    {
     "cell_type": "code",
     "collapsed": false,
     "input": [
      "growthmobile.name='mobile'"
     ],
     "language": "python",
     "metadata": {},
     "outputs": []
    },
    {
     "cell_type": "code",
     "collapsed": false,
     "input": [
      "growthmobile"
     ],
     "language": "python",
     "metadata": {},
     "outputs": []
    },
    {
     "cell_type": "markdown",
     "metadata": {},
     "source": [
      "Let's see the descriptive stats for each growth process"
     ]
    },
    {
     "cell_type": "code",
     "collapsed": false,
     "input": [
      "growth.describe()"
     ],
     "language": "python",
     "metadata": {},
     "outputs": []
    },
    {
     "cell_type": "code",
     "collapsed": false,
     "input": [
      "growthmobile.describe()"
     ],
     "language": "python",
     "metadata": {},
     "outputs": []
    },
    {
     "cell_type": "markdown",
     "metadata": {},
     "source": [
      "Notice that growthmobile has infinite mean, i.e. some country started with zero coverage and now has positive one. Let's see for which ccountries that is the case and change those observations to NaN."
     ]
    },
    {
     "cell_type": "code",
     "collapsed": false,
     "input": [
      "growthmobile.ix[growthmobile==np.inf]"
     ],
     "language": "python",
     "metadata": {},
     "outputs": []
    },
    {
     "cell_type": "code",
     "collapsed": false,
     "input": [
      "growthmobile.ix[growthmobile==np.inf]=np.nan"
     ],
     "language": "python",
     "metadata": {},
     "outputs": []
    },
    {
     "cell_type": "code",
     "collapsed": false,
     "input": [
      "growthmobile.describe()"
     ],
     "language": "python",
     "metadata": {},
     "outputs": []
    },
    {
     "cell_type": "markdown",
     "metadata": {},
     "source": [
      "Let's compute the correlation between between both growth rates"
     ]
    },
    {
     "cell_type": "code",
     "collapsed": false,
     "input": [
      "growth.corr(growthmobile)"
     ],
     "language": "python",
     "metadata": {},
     "outputs": []
    },
    {
     "cell_type": "markdown",
     "metadata": {},
     "source": [
      "Let's run an OLS regression between both growth rates, but first let's merge the data together. \n",
      "First we merge the data using the pd.merge command, which allows us to merge two data frames. "
     ]
    },
    {
     "cell_type": "code",
     "collapsed": false,
     "input": [
      "mydata=pd.merge(growth.reset_index(),growthmobile.reset_index())\n",
      "mydata"
     ],
     "language": "python",
     "metadata": {},
     "outputs": []
    },
    {
     "cell_type": "markdown",
     "metadata": {},
     "source": [
      "Second, we use the pd.concat command that concatenates series or data frames into data frames."
     ]
    },
    {
     "cell_type": "code",
     "collapsed": false,
     "input": [
      "grates=pd.concat([growth,growthmobile],axis=1)\n",
      "grates"
     ],
     "language": "python",
     "metadata": {},
     "outputs": []
    },
    {
     "cell_type": "markdown",
     "metadata": {},
     "source": [
      "Now let's import the *statsmodels* module to run the regression."
     ]
    },
    {
     "cell_type": "code",
     "collapsed": false,
     "input": [
      "import statsmodels.api as sm\n",
      "import statsmodels.formula.api as smf\n",
      "from IPython.display import Latex"
     ],
     "language": "python",
     "metadata": {},
     "outputs": []
    },
    {
     "cell_type": "code",
     "collapsed": false,
     "input": [
      "mod = sm.OLS(mydata['growth'],sm.add_constant(mydata['mobile']), missing='drop').fit()\n",
      "mod.summary2()"
     ],
     "language": "python",
     "metadata": {},
     "outputs": []
    },
    {
     "cell_type": "code",
     "collapsed": false,
     "input": [
      "mod = smf.ols(formula='growth ~ mobile', data=mydata[['growth','mobile']], missing='drop').fit()\n",
      "mod.summary2()"
     ],
     "language": "python",
     "metadata": {},
     "outputs": []
    },
    {
     "cell_type": "code",
     "collapsed": false,
     "input": [
      "mod = smf.ols(formula='growth ~ mobile', data=grates, missing='drop').fit()\n",
      "mod.summary2()"
     ],
     "language": "python",
     "metadata": {},
     "outputs": []
    },
    {
     "cell_type": "code",
     "collapsed": false,
     "input": [
      "mysummary=mod.summary2()\n",
      "Latex(mysummary.as_latex())"
     ],
     "language": "python",
     "metadata": {},
     "outputs": []
    },
    {
     "cell_type": "heading",
     "level": 1,
     "metadata": {},
     "source": [
      "Homework"
     ]
    },
    {
     "cell_type": "markdown",
     "metadata": {},
     "source": [
      "Using Pandas and Statsmodels write a Python script that: \n",
      "\n",
      "1. Downloads and opens the data from the Penn World Tables (PWT) versions 7.1 and 8.0\n",
      "2. Using the data from the PWT estimate the contribution of technological progress, TFP, by using the growth accounting framework studied in class.\n",
      "3. Using the data from the PWT calibrate productivity difference using the framework studied in class.\n",
      "4. Using the data from the PWT replicate the MRW analysis."
     ]
    },
    {
     "cell_type": "markdown",
     "metadata": {},
     "source": [
      "Some additional useful tools:\n",
      "\n",
      "* LaTeX Output\n",
      "* Plotting"
     ]
    },
    {
     "cell_type": "code",
     "collapsed": false,
     "input": [
      "%%latex\n",
      "\\begin{eqnarray}\n",
      "\\nabla \\times \\vec{\\mathbf{B}} -\\, \\frac1c\\, \\frac{\\partial\\vec{\\mathbf{E}}}{\\partial t} & = \\frac{4\\pi}{c}\\vec{\\mathbf{j}} \\\\\n",
      "\\nabla \\cdot \\vec{\\mathbf{E}} & = 4 \\pi \\rho \\\\\n",
      "\\nabla \\times \\vec{\\mathbf{E}}\\, +\\, \\frac1c\\, \\frac{\\partial\\vec{\\mathbf{B}}}{\\partial t} & = \\vec{\\mathbf{0}} \\\\\n",
      "\\nabla \\cdot \\vec{\\mathbf{B}} & = 0 \n",
      "\\end{eqnarray}"
     ],
     "language": "python",
     "metadata": {},
     "outputs": []
    },
    {
     "cell_type": "markdown",
     "metadata": {},
     "source": [
      "Some examples of plots..."
     ]
    },
    {
     "cell_type": "code",
     "collapsed": false,
     "input": [
      "dfincome[[str(i) for i in range(1990,2013)]].loc['USA'].plot()"
     ],
     "language": "python",
     "metadata": {},
     "outputs": []
    },
    {
     "cell_type": "code",
     "collapsed": false,
     "input": [
      "plt.scatter(grates.growth,grates.mobile)"
     ],
     "language": "python",
     "metadata": {},
     "outputs": []
    },
    {
     "cell_type": "code",
     "collapsed": false,
     "input": [
      "from pandas.io import wb\n",
      "wb.search('cell*')"
     ],
     "language": "python",
     "metadata": {},
     "outputs": []
    },
    {
     "cell_type": "markdown",
     "metadata": {},
     "source": [
      "Notebook written by [\u00d6mer \u00d6zak](http://omerozak.com) for his First Year Ph.D. students in Economics at [Southern Methodist University](http.www.smu.edu). Feel free to distribute or enlarge or contribute."
     ]
    }
   ],
   "metadata": {}
  }
 ]
}