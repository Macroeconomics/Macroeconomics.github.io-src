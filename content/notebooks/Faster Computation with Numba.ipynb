{
 "cells": [
  {
   "cell_type": "markdown",
   "metadata": {},
   "source": [
    "# Faster Computations with Numba"
   ]
  },
  {
   "cell_type": "markdown",
   "metadata": {},
   "source": [
    "## Some notes mostly for myself"
   ]
  },
  {
   "cell_type": "markdown",
   "metadata": {},
   "source": [
    "Altough Python is fast compared to other high-level languages, it still is noat as fast as C, C++ or Fortran. Luckily, two open source projects [Numba](http://numba.pydata.org/) and [Cython](http://cython.org/) can be used to speed-up computations. [Numba](http://numba.pydata.org/) is sponsored by the producer of [Anaconda](https://store.continuum.io/cshop/anaconda/), [Continuum Analytics](http://continuum.io/). Both projects allow you to convert your code to interpreted language so that it runs faster. Here I will use Numba, given its ease and Just-In-Time nature, although I still have to figure out how to save and use the compiled functions (pycc and static libraries it seems?). Cython on the other hand needs you to understand much more of C and Ctypes. But once you figure out a way to run your code and compile it, you have a library ready to use and import. See the code for the repository for my paper [Optimal consumption under uncertainty, liquidity constraints, and bounded rationality](http://ozak.github.io/BoundedConsumption/) where I used Cython for the dynsysf.pyx function."
   ]
  },
  {
   "cell_type": "markdown",
   "metadata": {},
   "source": [
    "## Numba"
   ]
  },
  {
   "cell_type": "markdown",
   "metadata": {},
   "source": [
    "Numba is quite easy to use. Start by importing it\n",
    "\n",
    "    import numba as nb\n",
    "\n",
    "or some of its functions\n",
    "\n",
    "    from numba import jit, autojit, njit\n",
    "    \n",
    "Then define your function and notate it using the Numba commands jit, njit, autojit or their decorators @jit, @njit."
   ]
  },
  {
   "cell_type": "markdown",
   "metadata": {},
   "source": [
    "#### Examples:"
   ]
  },
  {
   "cell_type": "code",
   "execution_count": 455,
   "metadata": {
    "collapsed": false
   },
   "outputs": [
    {
     "name": "stdout",
     "output_type": "stream",
     "text": [
      "100000 loops, best of 3: 4.13 µs per loop\n",
      "10000 loops, best of 3: 21.7 µs per loop\n"
     ]
    }
   ],
   "source": [
    "from numba import jit, njit, autojit\n",
    "import numba as nb\n",
    "import math\n",
    "\n",
    "# A simple funtion that computes the maximum distance between two vectors\n",
    "@nb.jit('f8(f8[:],f8[:])')\n",
    "def errnb(V0,V1):\n",
    "    maxi=0.0\n",
    "    for i in range(V0.shape[0]):\n",
    "        m=abs(V1[i]-V0[i])\n",
    "        if m>=maxi:\n",
    "            maxi=m\n",
    "    return maxi\n",
    "\n",
    "x=np.random.random((1000))\n",
    "y=np.random.random((1000))\n",
    "\n",
    "%timeit errnb(x,y)\n",
    "%timeit np.max(np.abs(x-y))"
   ]
  },
  {
   "cell_type": "code",
   "execution_count": null,
   "metadata": {
    "collapsed": false
   },
   "outputs": [],
   "source": [
    "# Let's use Numba to compute a Cobb-Douglas function\n",
    "@jit\n",
    "def CobbDouglas(K,L,A,alpha,beta):\n",
    "    return A * K**alpha * L**beta\n",
    "\n",
    "K,L,A,alpha,beta = 2,2,1,.3,.7\n",
    "\n",
    "CobbDouglas(K,L,A,alpha,beta)"
   ]
  },
  {
   "cell_type": "markdown",
   "metadata": {},
   "source": [
    "Let's time it and compare with Numpy or simple Python"
   ]
  },
  {
   "cell_type": "code",
   "execution_count": null,
   "metadata": {
    "collapsed": false
   },
   "outputs": [],
   "source": [
    "%timeit A * K**alpha * L**beta"
   ]
  },
  {
   "cell_type": "code",
   "execution_count": null,
   "metadata": {
    "collapsed": false
   },
   "outputs": [],
   "source": [
    "%timeit CobbDouglas(K,L,A,alpha,beta)"
   ]
  },
  {
   "cell_type": "markdown",
   "metadata": {},
   "source": [
    "Well not fast enough...why?"
   ]
  },
  {
   "cell_type": "code",
   "execution_count": null,
   "metadata": {
    "collapsed": false
   },
   "outputs": [],
   "source": [
    "CobbDouglas.inspect_types()"
   ]
  },
  {
   "cell_type": "markdown",
   "metadata": {},
   "source": [
    "OK...it is correctly compiled and it is using Numba types and not PyObjects. So perhaps we cannot gain much in this simple computation...but that is ok. Let's try something a little more complex, computing a CobbDouglas for vectors K and L"
   ]
  },
  {
   "cell_type": "code",
   "execution_count": null,
   "metadata": {
    "collapsed": false
   },
   "outputs": [],
   "source": [
    "# Python function\n",
    "def CobbDouglas(K,L,A,alpha,beta):\n",
    "    return A * K**alpha * L**beta\n",
    "\n",
    "CobbDouglas_nb=autojit(CobbDouglas)\n",
    "CobbDouglas_nb2=njit(CobbDouglas)"
   ]
  },
  {
   "cell_type": "code",
   "execution_count": null,
   "metadata": {
    "collapsed": false
   },
   "outputs": [],
   "source": [
    "K=np.random.random((100,1))\n",
    "L=np.random.random((100,1))"
   ]
  },
  {
   "cell_type": "code",
   "execution_count": null,
   "metadata": {
    "collapsed": false
   },
   "outputs": [],
   "source": [
    "%timeit CobbDouglas(K,L,A,alpha,beta)"
   ]
  },
  {
   "cell_type": "code",
   "execution_count": null,
   "metadata": {
    "collapsed": false
   },
   "outputs": [],
   "source": [
    "%timeit CobbDouglas_nb(K,L,A,alpha,beta)"
   ]
  },
  {
   "cell_type": "code",
   "execution_count": null,
   "metadata": {
    "collapsed": false
   },
   "outputs": [],
   "source": [
    "%timeit CobbDouglas_nb2(K,L,A,alpha,beta)"
   ]
  },
  {
   "cell_type": "markdown",
   "metadata": {},
   "source": [
    "Ooops what went wrong? Up to V.0.12.2 Numba cannot create Arrays in njit mode, i.e. without using Python Objects. But do not despair, we can create a fast CobbDouglas function by iterating over our vectors. Here I first create the `CobbDouglasNB` function which takes floating point numbers and tells Numba not to use PyObjects, and then I create the vectorized version `CobbDouglasVecNB`, which iterates over the elements of K and L (here we assume both are vectors) and returns our output Y. I know it is strange that we have to giv ethe output as part of the function, but it allows us to speed up the computations."
   ]
  },
  {
   "cell_type": "code",
   "execution_count": null,
   "metadata": {
    "collapsed": false
   },
   "outputs": [],
   "source": [
    "@nb.njit('f8(f8,f8,f8,f8,f8)')\n",
    "def CobbDouglasNB(K,L,A,alpha,beta):\n",
    "    return A * K**alpha * L**beta\n",
    "\n",
    "@nb.jit('f8[:](f8[:],f8[:],f8[:],f8,f8,f8)')\n",
    "def CobbDouglasVecNB(Y,K,L,A,alpha,beta):\n",
    "    for i in range(K.shape[0]):\n",
    "        Y[i]=CobbDouglasNB(K[i],L[i],A,alpha,beta)\n",
    "    return Y"
   ]
  },
  {
   "cell_type": "code",
   "execution_count": null,
   "metadata": {
    "collapsed": false
   },
   "outputs": [],
   "source": [
    "K.mean()"
   ]
  },
  {
   "cell_type": "code",
   "execution_count": null,
   "metadata": {
    "collapsed": false
   },
   "outputs": [],
   "source": [
    "%timeit CobbDouglas(K[:,0],L[:,0],A,alpha,beta)"
   ]
  },
  {
   "cell_type": "code",
   "execution_count": null,
   "metadata": {
    "collapsed": false
   },
   "outputs": [],
   "source": [
    "Y=np.zeros_like(K)\n",
    "%timeit CobbDouglasVecNB(Y[:,0],K[:,0],L[:,0],A,alpha,beta)"
   ]
  },
  {
   "cell_type": "markdown",
   "metadata": {},
   "source": [
    "## Twice as fast as Numpy!"
   ]
  },
  {
   "cell_type": "markdown",
   "metadata": {},
   "source": [
    "Let's generalize the function to arrays of 2 dimensions"
   ]
  },
  {
   "cell_type": "code",
   "execution_count": null,
   "metadata": {
    "collapsed": false
   },
   "outputs": [],
   "source": [
    "@nb.jit('f8[:,:](f8[:,:],f8[:,:],f8[:,:],f8,f8,f8)')\n",
    "def CobbDouglasVecNB(Y,K,L,A,alpha,beta):\n",
    "    for i in range(K.shape[0]):\n",
    "        for j in range(K.shape[1]):\n",
    "            Y[i,j]=CobbDouglasNB(K[i,j],L[i,j],A,alpha,beta)\n",
    "    return Y"
   ]
  },
  {
   "cell_type": "code",
   "execution_count": null,
   "metadata": {
    "collapsed": false
   },
   "outputs": [],
   "source": [
    "K=np.random.random((1000,1000))\n",
    "L=np.random.random((1000,1000))\n",
    "%timeit CobbDouglas(K,L,A,alpha,beta)"
   ]
  },
  {
   "cell_type": "code",
   "execution_count": null,
   "metadata": {
    "collapsed": false
   },
   "outputs": [],
   "source": [
    "Y=np.zeros_like(K)\n",
    "%timeit CobbDouglasVecNB(Y,K,L,A,alpha,beta)"
   ]
  },
  {
   "cell_type": "markdown",
   "metadata": {},
   "source": [
    "### 20% faster than Numpy...so we get the idea."
   ]
  },
  {
   "cell_type": "markdown",
   "metadata": {},
   "source": [
    "While this is great to speed up, we see that there are some issues one has to think about in order to get those gains.\n",
    "\n",
    "Now let's use the vectorize option, which creates Numpy Ufunctions, that is functions that operate on vectors (or at leats that s what I gather)."
   ]
  },
  {
   "cell_type": "code",
   "execution_count": null,
   "metadata": {
    "collapsed": false
   },
   "outputs": [],
   "source": [
    "@nb.vectorize('f8(f8,f8,f8,f8,f8,)')\n",
    "def CobbDouglasNB2(K,L,A,alpha,beta):\n",
    "    return A * K**alpha * L**beta"
   ]
  },
  {
   "cell_type": "code",
   "execution_count": null,
   "metadata": {
    "collapsed": false
   },
   "outputs": [],
   "source": [
    "%timeit CobbDouglasNB2(K,L,A,alpha,beta)"
   ]
  },
  {
   "cell_type": "markdown",
   "metadata": {},
   "source": [
    "Let's compare these functions on different sizes of matrices $K$ and $L$"
   ]
  },
  {
   "cell_type": "code",
   "execution_count": null,
   "metadata": {
    "collapsed": false
   },
   "outputs": [],
   "source": [
    "K=np.random.random((1e4,1e4))\n",
    "L=np.random.random((1e4,1e4))\n",
    "Y=np.zeros_like(K)"
   ]
  },
  {
   "cell_type": "code",
   "execution_count": null,
   "metadata": {
    "collapsed": false
   },
   "outputs": [],
   "source": [
    "%timeit CobbDouglas(K[1:100,1:100],L[1:100,1:100],A,alpha,beta)"
   ]
  },
  {
   "cell_type": "code",
   "execution_count": null,
   "metadata": {
    "collapsed": false
   },
   "outputs": [],
   "source": [
    "%timeit CobbDouglasVecNB(Y[1:100,1:100],K[1:100,1:100],L[1:100,1:100],A,alpha,beta)"
   ]
  },
  {
   "cell_type": "code",
   "execution_count": null,
   "metadata": {
    "collapsed": false
   },
   "outputs": [],
   "source": [
    "%timeit CobbDouglasNB2(K[1:100,1:100],L[1:100,1:100],A,alpha,beta)"
   ]
  },
  {
   "cell_type": "code",
   "execution_count": null,
   "metadata": {
    "collapsed": false
   },
   "outputs": [],
   "source": [
    "%timeit CobbDouglas(K[1:1000,1:1000],L[1:1000,1:1000],A,alpha,beta)"
   ]
  },
  {
   "cell_type": "code",
   "execution_count": null,
   "metadata": {
    "collapsed": false
   },
   "outputs": [],
   "source": [
    "%timeit CobbDouglasVecNB(Y[1:1000,1:1000],K[1:1000,1:1000],L[1:1000,1:1000],A,alpha,beta)"
   ]
  },
  {
   "cell_type": "code",
   "execution_count": null,
   "metadata": {
    "collapsed": false
   },
   "outputs": [],
   "source": [
    "%timeit CobbDouglasNB2(K[1:1000,1:1000],L[1:1000,1:1000],A,alpha,beta)"
   ]
  },
  {
   "cell_type": "markdown",
   "metadata": {},
   "source": [
    "Now let's try the CRRA utility function"
   ]
  },
  {
   "cell_type": "code",
   "execution_count": null,
   "metadata": {
    "collapsed": false
   },
   "outputs": [],
   "source": [
    "@nb.jit('f8(f8,f8)')\n",
    "def U_numba(c,sigma):\n",
    "    '''This function returns the value of utility when the CRRA\n",
    "    coefficient is sigma. I.e. \n",
    "    u(c,sigma)=(c**(1-sigma)-1)/(1-sigma) if sigma!=1 \n",
    "    and \n",
    "    u(c,sigma)=ln(c) if sigma==1\n",
    "    Usage: u(c,sigma)\n",
    "    '''\n",
    "    if sigma!=1:\n",
    "        u=(c**(1-sigma)-1)/(1-sigma)\n",
    "    else:\n",
    "        u=0\n",
    "    return u\n",
    "\n",
    "@nb.jit('f8[:,:](f8[:,:],f8)')\n",
    "def Uvec(u,c,sigma):\n",
    "    if sigma!=1:\n",
    "        for i in range(c.shape[0]):\n",
    "            for j in range(c.shape[1]):\n",
    "                u[i,j]=U_numba(c[i,j],sigma)\n",
    "    else:\n",
    "        u=np.log(c)\n",
    "    return u\n",
    "\n",
    "@nb.jit('f8[:,:](f8[:,:],f8)')\n",
    "def U(c,sigma):\n",
    "    if sigma!=1:\n",
    "        u=Unb(c,sigma)#(c**(1-sigma)-1)/(1-sigma)\n",
    "    else:\n",
    "        u=np.log(c)\n",
    "    return u\n",
    "\n",
    "def Unp(c,sigma):\n",
    "    if sigma!=1:\n",
    "        u=(c**(1-sigma)-1)/(1-sigma)\n",
    "    else:\n",
    "        u=np.log(c)\n",
    "    return u\n",
    "\n",
    "@nb.vectorize('f8(f8,f8)')\n",
    "def Unb(c,sigma):\n",
    "    if sigma!=1:\n",
    "        u=(c**(1-sigma)-1)/(1-sigma)\n",
    "    else:\n",
    "        u=math.log(c)\n",
    "    return u\n"
   ]
  },
  {
   "cell_type": "code",
   "execution_count": null,
   "metadata": {
    "collapsed": false
   },
   "outputs": [],
   "source": [
    "%timeit U(grid,1)"
   ]
  },
  {
   "cell_type": "code",
   "execution_count": null,
   "metadata": {
    "collapsed": false
   },
   "outputs": [],
   "source": [
    "%timeit Unp(grid,1)"
   ]
  },
  {
   "cell_type": "code",
   "execution_count": null,
   "metadata": {
    "collapsed": false
   },
   "outputs": [],
   "source": [
    "%timeit Unb(grid,1)"
   ]
  },
  {
   "cell_type": "code",
   "execution_count": null,
   "metadata": {
    "collapsed": false
   },
   "outputs": [],
   "source": [
    "u=np.zeros_like(grid)\n",
    "%timeit Uvec(u,grid,1)"
   ]
  },
  {
   "cell_type": "code",
   "execution_count": null,
   "metadata": {
    "collapsed": false
   },
   "outputs": [],
   "source": [
    "%timeit U(grid,3)"
   ]
  },
  {
   "cell_type": "code",
   "execution_count": null,
   "metadata": {
    "collapsed": false
   },
   "outputs": [],
   "source": [
    "%timeit Unb(grid,3)"
   ]
  },
  {
   "cell_type": "code",
   "execution_count": null,
   "metadata": {
    "collapsed": false
   },
   "outputs": [],
   "source": [
    "%timeit Unp(grid,3)"
   ]
  },
  {
   "cell_type": "code",
   "execution_count": null,
   "metadata": {
    "collapsed": false
   },
   "outputs": [],
   "source": [
    "u=np.zeros_like(grid)\n",
    "%timeit Uvec(u,grid,3)"
   ]
  },
  {
   "cell_type": "markdown",
   "metadata": {},
   "source": [
    "# Optimizing the code for Dynamic Programming and GIS"
   ]
  },
  {
   "cell_type": "markdown",
   "metadata": {},
   "source": [
    "## Optimal Growth"
   ]
  },
  {
   "cell_type": "code",
   "execution_count": 292,
   "metadata": {
    "collapsed": false
   },
   "outputs": [
    {
     "name": "stdout",
     "output_type": "stream",
     "text": [
      "tol=0.000001\n",
      "(300,)\n"
     ]
    }
   ],
   "source": [
    "# Parameters Optimal Growth\n",
    "alpha=.3\n",
    "beta=.9\n",
    "sigma=1\n",
    "delta=1\n",
    "A=1\n",
    "\n",
    "# Grid of values for state variable over which function will be approximated\n",
    "gridmin, gridmax, gridsize = 0.1, 5, 300\n",
    "grid = np.linspace(gridmin, gridmax**1e-1, gridsize)**10\n",
    "\n",
    "# Parameters for the optimization procedures\n",
    "count=0\n",
    "maxiter=1000\n",
    "tol=1e-6\n",
    "print('tol=%f' % tol)\n",
    "print(grid.shape)"
   ]
  },
  {
   "cell_type": "code",
   "execution_count": 355,
   "metadata": {
    "collapsed": false
   },
   "outputs": [],
   "source": [
    "import numba as nb\n",
    "from scipy.optimize import fminbound\n",
    "from scipy import interp\n",
    "\n",
    "# Auxiliary functions \n",
    "# Maximize function V on interval [a,b]\n",
    "def maximum(V, a, b, args=[]):\n",
    "    return float(V(fminbound(lambda x: -V(x), a, b,args=args)))\n",
    "\n",
    "# Return Maximizer of function V on interval [a,b]\n",
    "def maximizer(V, a, b, args=[]):\n",
    "    return float(fminbound(lambda x: -V(x), a, b, args=args))\n",
    "\n",
    "# Interpolation functions Class\n",
    "class LinInterp:\n",
    "    \"Provides linear interpolation in one dimension.\"\n",
    "\n",
    "    def __init__(self, X, Y):\n",
    "        \"\"\"Parameters: X and Y are sequences or arrays\n",
    "        containing the (x,y) interpolation points.\n",
    "        \"\"\"\n",
    "        self.X, self.Y = X, Y\n",
    "\n",
    "    def __call__(self, z):\n",
    "        \"\"\"Parameters: z is a number, sequence or array.\n",
    "        This method makes an instance f of LinInterp callable,\n",
    "        so f(z) returns the interpolation value(s) at z.\n",
    "        \"\"\"\n",
    "        if isinstance(z, int) or isinstance(z, float):\n",
    "            return interp ([z], self.X, self.Y)[0]\n",
    "        else:\n",
    "            return interp(z, self.X, self.Y)\n",
    "\n",
    "@nb.jit('f8[:](f8[:],f8)')\n",
    "def U(c,sigma):\n",
    "    if sigma!=1:\n",
    "        u=Unb(c,sigma)#(c**(1-sigma)-1)/(1-sigma)\n",
    "    else:\n",
    "        u=np.log(c)\n",
    "    return u\n",
    "\n",
    "@nb.vectorize('f8(f8,f8)')\n",
    "def Unb(c,sigma):\n",
    "    if sigma!=1:\n",
    "        u=(c**(1-sigma)-1)/(1-sigma)\n",
    "    else:\n",
    "        u=math.log(c)\n",
    "    return u\n",
    "\n",
    "@nb.vectorize('f8(f8,f8,f8,f8,f8,)')\n",
    "def CobbDouglasNB2(K,L,A,alpha,beta):\n",
    "    '''CobbDouglasNB2(K,L,A,alpha,beta)'''\n",
    "    return A * K**alpha * L**beta\n",
    "\n",
    "@nb.vectorize('f8(f8,f8,f8)')\n",
    "def F_nb(K,alpha,A):\n",
    "    '''\n",
    "    Cobb-Douglas production function\n",
    "    F(K)=A* K^alpha\n",
    "    '''\n",
    "    return A * K**alpha\n",
    "\n",
    "def F_np(K,alpha,A):\n",
    "    '''\n",
    "    Cobb-Douglas production function\n",
    "    F(K)=A* K^alpha\n",
    "    '''\n",
    "    return A * K**alpha"
   ]
  },
  {
   "cell_type": "code",
   "execution_count": 294,
   "metadata": {
    "collapsed": false
   },
   "outputs": [
    {
     "name": "stdout",
     "output_type": "stream",
     "text": [
      "10000 loops, best of 3: 34.2 µs per loop\n"
     ]
    }
   ],
   "source": [
    "%timeit CobbDouglasNB2(grid,1,A,alpha,0)"
   ]
  },
  {
   "cell_type": "code",
   "execution_count": 295,
   "metadata": {
    "collapsed": false
   },
   "outputs": [
    {
     "name": "stdout",
     "output_type": "stream",
     "text": [
      "10000 loops, best of 3: 27.7 µs per loop\n"
     ]
    }
   ],
   "source": [
    "%timeit F_nb(grid,alpha,A)"
   ]
  },
  {
   "cell_type": "code",
   "execution_count": 296,
   "metadata": {
    "collapsed": false
   },
   "outputs": [
    {
     "name": "stdout",
     "output_type": "stream",
     "text": [
      "10000 loops, best of 3: 29.7 µs per loop\n"
     ]
    }
   ],
   "source": [
    "%timeit F_np(grid,alpha,A)"
   ]
  },
  {
   "cell_type": "code",
   "execution_count": 412,
   "metadata": {
    "collapsed": false
   },
   "outputs": [
    {
     "name": "stdout",
     "output_type": "stream",
     "text": [
      "1 loops, best of 3: 681 ms per loop\n",
      "1 loops, best of 3: 669 ms per loop\n",
      "138\n",
      "138\n",
      "138\n",
      "138\n",
      "1 loops, best of 3: 1min 33s per loop\n"
     ]
    }
   ],
   "source": [
    "V0=LinInterp(grid,U(grid,sigma))\n",
    "def bellman(x,w):\n",
    "    \"\"\"The approximate Bellman operator.\n",
    "    Parameters: w is a LinInterp object (i.e., a \n",
    "    callable object which acts pointwise on arrays).\n",
    "    Returns: An instance of LinInterp that represents the optimal operator.\n",
    "    w is a function defined on the state space.\n",
    "    \"\"\"\n",
    "    vals = []\n",
    "    for k in x:\n",
    "        kmax=F_nb(k,alpha,A)\n",
    "        h = lambda kp: U(kmax + (1-delta) * k - kp,sigma) + beta * w(kp)\n",
    "        vals.append(maximum(h, 0, kmax))\n",
    "    return LinInterp(grid, vals)\n",
    "\n",
    "def policy(x,w):\n",
    "    \"\"\"\n",
    "    For each function w, policy(w) returns the function that maximizes the \n",
    "    RHS of the Bellman operator.\n",
    "    Replace w for the Value function to get optimal policy.\n",
    "    The approximate optimal policy operator w-greedy (See Stachurski (2009)). \n",
    "    Parameters: w is a LinInterp object (i.e., a \n",
    "    callable object which acts pointwise on arrays).\n",
    "    Returns: An instance of LinInterp that captures the optimal policy.\n",
    "    \"\"\"\n",
    "    vals = []\n",
    "    for k in x:\n",
    "        kmax=F_nb(k,alpha,A)\n",
    "        h = lambda kp: U(kmax + (1-delta) * k - kp,sigma) + beta * w(kp)\n",
    "        vals.append(maximizer(h, 0, kmax))\n",
    "    return LinInterp(grid, vals)\n",
    "\n",
    "def solve():\n",
    "    count=0\n",
    "    V0=LinInterp(grid,U(grid,sigma))\n",
    "    while count<maxiter:\n",
    "        V1=bellman(grid,V0)\n",
    "        err=np.max(np.abs(np.array(V1(grid))-np.array(V0(grid))))\n",
    "        V0=V1\n",
    "        count+=1\n",
    "        if err<tol:\n",
    "            print(count)\n",
    "            break\n",
    "    return V0\n",
    "\n",
    "\n",
    "V0=bellman(grid,V0)\n",
    "C0=policy(grid,V0)\n",
    "%timeit bellman(grid,V0)\n",
    "%timeit policy(grid,V0)\n",
    "%timeit solve()"
   ]
  },
  {
   "cell_type": "code",
   "execution_count": 407,
   "metadata": {
    "collapsed": false
   },
   "outputs": [
    {
     "name": "stdout",
     "output_type": "stream",
     "text": [
      "1 loops, best of 3: 645 ms per loop\n",
      "1 loops, best of 3: 513 ms per loop\n"
     ]
    }
   ],
   "source": [
    "def Utrf(kp,kmax,k,sigma,w):\n",
    "    return -U(kmax + (1-delta) * k - kp,sigma)-beta*w(kp)\n",
    "\n",
    "@nb.jit('f8[:](f8[:],f8[:])')\n",
    "def bellmannb(x,w0):\n",
    "    \"\"\"The approximate Bellman operator.\n",
    "    Parameters: w is a LinInterp object (i.e., a \n",
    "    callable object which acts pointwise on arrays).\n",
    "    Returns: An instance of LinInterp that represents the optimal operator.\n",
    "    w is a function defined on the state space.\n",
    "    \"\"\"\n",
    "    w=LinInterp(x,w0)\n",
    "    vals = np.array([])\n",
    "    for k in x:\n",
    "        kmax=F_nb(k,alpha,A)\n",
    "        vals=np.append(vals,-Utrf(fminbound(Utrf, 0, kmax,args=[kmax,k,sigma,w]),kmax,k,sigma,w))\n",
    "    return vals\n",
    "\n",
    "@nb.jit('f8[:](f8[:],f8[:])')\n",
    "def policynb(x,w0):\n",
    "    \"\"\"The approximate Bellman operator.\n",
    "    Parameters: w is a LinInterp object (i.e., a \n",
    "    callable object which acts pointwise on arrays).\n",
    "    Returns: An instance of LinInterp that represents the optimal operator.\n",
    "    w is a function defined on the state space.\n",
    "    \"\"\"\n",
    "    w=LinInterp(x,w0)\n",
    "    vals = np.array([])\n",
    "    for k in x:\n",
    "        kmax=F_nb(k,alpha,A)\n",
    "        vals=np.append(vals,fminbound(Utrf, 0, kmax,args=[kmax,k,sigma,w]))\n",
    "    return vals\n",
    "\n",
    "@nb.jit('f8(f8[:],f8[:])')\n",
    "def errnb(V0,V1):\n",
    "    maxi=0.0\n",
    "    for i in range(V0.shape[0]):\n",
    "        m=abs(V1[i]-V0[i])\n",
    "        if m>=maxi:\n",
    "            maxi=m\n",
    "    return maxi\n",
    "\n",
    "@nb.jit('f8[:]()')\n",
    "def solvenb():\n",
    "    count=0.0\n",
    "    V0=U(grid,sigma)\n",
    "    while count<maxiter:\n",
    "        V1=bellmannb(grid,V0)\n",
    "        err=errnb(V1,V0)\n",
    "        V0=V1\n",
    "        count+=1\n",
    "        if err<tol:\n",
    "            print(count)\n",
    "            break\n",
    "    return V0\n",
    "\n",
    "U0=U(grid,sigma)\n",
    "U0=bellmannb(grid,U0)\n",
    "c0=policynb(grid,U0)\n",
    "%timeit bellmannb(grid,U0)\n",
    "%timeit policynb(grid,U0)\n",
    "%timeit solvenb()"
   ]
  },
  {
   "cell_type": "code",
   "execution_count": 404,
   "metadata": {
    "collapsed": false
   },
   "outputs": [
    {
     "data": {
      "text/plain": [
       "<matplotlib.legend.Legend at 0x113768f90>"
      ]
     },
     "execution_count": 404,
     "metadata": {},
     "output_type": "execute_result"
    },
    {
     "data": {
      "image/png": "[encoded data removed]",
      "text/plain": [
       "<matplotlib.figure.Figure at 0x11378cdd0>"
      ]
     },
     "metadata": {},
     "output_type": "display_data"
    }
   ],
   "source": [
    "plt.plot(grid,V0(grid),label='V0')\n",
    "plt.plot(grid,U0)\n",
    "plt.legend()"
   ]
  },
  {
   "cell_type": "code",
   "execution_count": 405,
   "metadata": {
    "collapsed": false
   },
   "outputs": [
    {
     "data": {
      "text/plain": [
       "<matplotlib.legend.Legend at 0x10c821a10>"
      ]
     },
     "execution_count": 405,
     "metadata": {},
     "output_type": "execute_result"
    },
    {
     "data": {
      "image/png": "[encoded data removed]",
      "text/plain": [
       "<matplotlib.figure.Figure at 0x1117e8f50>"
      ]
     },
     "metadata": {},
     "output_type": "display_data"
    }
   ],
   "source": [
    "plt.plot(grid,C0(grid),label='C0')\n",
    "plt.plot(grid,c0)\n",
    "plt.legend()"
   ]
  },
  {
   "cell_type": "code",
   "execution_count": 446,
   "metadata": {
    "collapsed": false
   },
   "outputs": [
    {
     "name": "stdout",
     "output_type": "stream",
     "text": [
      "138.0\n",
      "138.0\n",
      "138.0\n",
      "138.0\n",
      "1 loops, best of 3: 1min 18s per loop\n"
     ]
    }
   ],
   "source": [
    "@nb.jit('f8(f8[:],f8[:])')\n",
    "def errnb(V0,V1):\n",
    "    maxi=0.0\n",
    "    for i in range(V0.shape[0]):\n",
    "        m=abs(V1[i]-V0[i])\n",
    "        if m>=maxi:\n",
    "            maxi=m\n",
    "    return maxi\n",
    "\n",
    "@nb.jit('f8[:]()')\n",
    "def solvenb():\n",
    "    count=0.0\n",
    "    V0=U(grid,sigma)\n",
    "    while count<maxiter:\n",
    "        V1=bellmannb(grid,V0)\n",
    "        err=errnb(V1,V0)\n",
    "        V0=V1\n",
    "        count+=1\n",
    "        if err<tol:\n",
    "            print(count)\n",
    "            break\n",
    "    return V0\n",
    "%timeit solvenb()"
   ]
  }
 ],
 "metadata": {
  "kernelspec": {
   "display_name": "Python 2",
   "language": "python",
   "name": "python2"
  },
  "language_info": {
   "codemirror_mode": {
    "name": "ipython",
    "version": 2
   },
   "file_extension": ".py",
   "mimetype": "text/x-python",
   "name": "python",
   "nbconvert_exporter": "python",
   "pygments_lexer": "ipython2",
   "version": "2.7.9"
  }
 },
 "nbformat": 4,
 "nbformat_minor": 0
}
